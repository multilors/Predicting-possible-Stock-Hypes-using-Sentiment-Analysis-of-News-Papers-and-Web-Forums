{
 "cells": [
  {
   "cell_type": "markdown",
   "metadata": {},
   "source": [
    "## Predicting possible Stock Hypes using Sentiment Analysis of News Papers and Web Forums\n",
    "### A Project for the Course Python for Finance II at the University of Vienna \n",
    "\n",
    "__Authors:__\n",
    "Atif Gangar, Jasmine Cerno, Loris Sultano"
   ]
  },
  {
   "cell_type": "markdown",
   "metadata": {},
   "source": [
    "#### Introduction\n",
    "\n",
    "Stock market prices and returns for certain sectors are nowadays quite volatile. This volatility is due in certain cases to extreme optimistic expectations by investors, which are itself often the product of a culture of believe in these sectors, fuelled by the media and investors themselves. The result are steep increases in stocks such as GamesStop, Tesla or some cryptocurrencies.\n",
    "\n",
    "We propose, that the information contained in newspapers and web forums could possible be used to predict such steep increases in prices, which we will call hypes, for a short to medium time span, such as one month to three months. Using sentiment analysis of articles of the Guardian, a newspaper, and various reddit forums, we try to train a model, to predict such possible hypes."
   ]
  },
  {
   "cell_type": "markdown",
   "metadata": {},
   "source": [
    "#### Data "
   ]
  },
  {
   "cell_type": "markdown",
   "metadata": {},
   "source": [
    "As a first step in our data gathering, we need to decide on some stocks, which will be used for the training of the model. Since we try to predict price movements via the discussion about stocks in forums, we will use the ten most mentioned stocks in some reddit forums. As forums we will use the subreddits r/wallstreetbets, r/StockMarket, r/stocks and r/investing, since these are the biggest and most relevant subreddits regarding investing in and trading stocks.\n",
    "\n",
    "To identify the ten most mentioned stocks, we look at 1000 posts from the 4 forums, as well as their comments, since most of the discussion happens in the comments to a post.\n"
   ]
  },
  {
   "cell_type": "code",
   "execution_count": 39,
   "metadata": {},
   "outputs": [],
   "source": [
    "import praw\n",
    "import re\n",
    "from collections import Counter"
   ]
  },
  {
   "cell_type": "code",
   "execution_count": 40,
   "metadata": {},
   "outputs": [],
   "source": [
    "reddit = praw.Reddit( # Create a Reddit instance\n",
    "        client_id='KE1gFGfiFZPlqYgJOoMjEA', # client ID\n",
    "        client_secret='HO6TcdYMufPB_tYk8yRiYdu4KQIxbw', # client secret\n",
    "        user_agent='StockmarketPhytonII/1.0 by Alarming_Raccoon_816' # user agent\n",
    "    )"
   ]
  },
  {
   "cell_type": "code",
   "execution_count": null,
   "metadata": {},
   "outputs": [],
   "source": [
    "subreddits = ['StockMarket', 'stocks', 'wallstreetbets', 'investing']\n",
    "posts = []\n",
    "\n",
    "for subreddit in subreddits:\n",
    "    for submission in reddit.subreddit(subreddit).top(limit=1000):  # Fetch top 1000 hot posts\n",
    "        post_content = submission.title + ' ' + submission.selftext\n",
    "        \n",
    "        # Fetch top-level comments\n",
    "        submission.comments.replace_more(limit=0)  # Expand all \"load more comments\"\n",
    "        comments = ' '.join(comment.body for comment in submission.comments.list())\n",
    "        \n",
    "        # Combine post content and comments\n",
    "        full_content = post_content + ' ' + comments\n",
    "        posts.append(full_content)"
   ]
  },
  {
   "cell_type": "code",
   "execution_count": 95,
   "metadata": {},
   "outputs": [
    {
     "name": "stdout",
     "output_type": "stream",
     "text": [
      "NVDA: 2108 mentions\n",
      "AMD: 1598 mentions\n",
      "INTC: 679 mentions\n",
      "MSFT: 657 mentions\n",
      "TSLA: 461 mentions\n",
      "AAPL: 366 mentions\n",
      "AMZN: 336 mentions\n",
      "META: 315 mentions\n",
      "GOOGL: 144 mentions\n",
      "AVGO: 137 mentions\n"
     ]
    }
   ],
   "source": [
    "# Define a list of known stock tickers\n",
    "known_tickers = [\n",
    "    'AAPL', 'AMZN', 'MSFT', 'GOOGL', 'META', 'NVDA', 'TSLA', 'INTC',\n",
    "    'NFLX', 'GME', 'WMT', 'AMD', 'QCOM', 'ADBE', 'PYPL', 'SBUX',\n",
    "    'EBAY', 'BIDU', 'BKNG', 'CRM', 'COST', 'CSCO', 'TXN', 'AVGO',\n",
    "    'CHTR', 'INTU', 'AMGN', 'MDLZ', 'ISRG', 'TMUS', 'ADI', 'AMAT',\n",
    "    'MU', 'BKNG', 'VRTX', 'MELI', 'JD', 'ATVI', 'KHC', 'ADSK',\n",
    "    'LRCX', 'ILMN', 'REGN', 'FISV', 'ADP', 'NXPI', 'KLAC', 'MAR',\n",
    "    'MRVL', 'IDXX', 'ROST', 'EA', 'XLNX', 'CTSH', 'BIIB', 'GILD',\n",
    "    'EXC', 'LULU', 'SPLK', 'CSX', 'WBA', 'FAST', 'VRSN', 'CDNS',\n",
    "    'SGEN', 'PCAR', 'SWKS', 'ALXN', 'MNST', 'MXIM', 'JD', 'SNPS',\n",
    "    'ORLY', 'LBTYA', 'LBTYK', 'DLTR', 'NTES', 'PAYX', 'CHKP',\n",
    "    'MCHP', 'VRSK', 'CTAS', 'TSCO', 'TTWO', 'CTXS', 'CDW', 'NDAQ',\n",
    "    'NTAP', 'SIRI', 'VOD', 'ASML', 'KDP', 'WDAY', 'ROKU', 'XEL',\n",
    "    'HOLX', 'ALGN', 'PDD', 'VFC', 'TRIP', 'CHKP', 'CERN', 'SBAC',\n",
    "    'ANSS', 'PEP', 'MDT'\n",
    "]\n",
    "\n",
    "# Compile a regex pattern to match tickers\n",
    "ticker_pattern = re.compile(r'\\b(' + '|'.join(known_tickers) + r')\\b')\n",
    "\n",
    "# Count occurrences of each ticker\n",
    "ticker_counts = Counter()\n",
    "\n",
    "for post in posts:\n",
    "    matches = ticker_pattern.findall(post)\n",
    "    ticker_counts.update(matches)\n",
    "\n",
    "# Get the ten most common tickers\n",
    "most_common_tickers = ticker_counts.most_common(10)\n",
    "\n",
    "# Display the results\n",
    "for ticker, count in most_common_tickers:\n",
    "    print(f\"{ticker}: {count} mentions\")"
   ]
  },
  {
   "cell_type": "markdown",
   "metadata": {},
   "source": [
    " \n",
    "After identifying the ten most mentioned stocks, we continue using just these ten stocks. We limit ourselves to only ten stocks, due to the computational capabilities of our machines. So that training the models will be possible in reasonable time and also so that we have enough time to troubleshoot possible error encounter.\n",
    "\n",
    "As a time span for which we will get our data, we will just use everything we can get since 1.2.2012, since then r/wallstreetbets was founded.\n"
   ]
  },
  {
   "cell_type": "markdown",
   "metadata": {},
   "source": [
    "__Stocks and Variable indicating a Hype__"
   ]
  },
  {
   "cell_type": "markdown",
   "metadata": {},
   "source": [
    "\n",
    "To identify a possible hype that leads to a steep increase in a stocks price, we simply just define a hype as 10% or more increase price over a timespan of one month. To capture this we just create a binary variable indicating, whether this happened or not over 20 days, since we assume for simplicity, that a month has 20 trading days."
   ]
  },
  {
   "cell_type": "code",
   "execution_count": 4,
   "metadata": {},
   "outputs": [],
   "source": [
    "import pandas as pd\n",
    "from datetime import datetime\n",
    "import yfinance as yf\n",
    "import numpy as np"
   ]
  },
  {
   "cell_type": "code",
   "execution_count": 42,
   "metadata": {},
   "outputs": [
    {
     "name": "stdout",
     "output_type": "stream",
     "text": [
      "Combined stock data saved to stock_data.csv\n"
     ]
    }
   ],
   "source": [
    "tickers = [\n",
    "    'NVDA', 'AMD', 'INTC', 'MSFT', 'TSLA',\n",
    "    'AAPL', 'AMZN', 'META', 'GOOGL', 'AVGO'\n",
    "]\n",
    "\n",
    "start_date = '2012-02-01' # Start date for fetching stock data\n",
    "\n",
    "combined_data = pd.DataFrame() # Initialize an empty DataFrame to hold the combined data\n",
    "\n",
    "for ticker in tickers: # Loop through each stock ticker\n",
    "    stock = yf.Ticker(ticker) # Create a Ticker object for the stock\n",
    "    stock_data = stock.history(start=start_date) # Fetch historical stock data\n",
    "\n",
    "    stock_data = stock_data[['Close']] # Keep only the 'Close' column\n",
    "    stock_data.rename(columns={'Close': ticker}, inplace=True) # Rename the 'Close' column to the stock ticker\n",
    "    \n",
    "    stock_data[f'{ticker}_20d_pct_change'] = stock_data[ticker].pct_change(periods=20) * 100 # Calculate the 20-day percentage change\n",
    "    \n",
    "    stock_data[f'{ticker}_hype'] = np.where(stock_data[f'{ticker}_20d_pct_change'] >= 10, 1, 0) # Create a binary variable for hype (1 if 20-day percentage change is >= 10%, 0 otherwise)\n",
    "\n",
    "    stock_data[f'{ticker}_hype_next_month'] = stock_data[f'{ticker}_hype'].shift(-20)  # Shift the binary variable 20 days into the past\n",
    "\n",
    "    if combined_data.empty: # If the combined DataFrame is empty, set it to the current stock data\n",
    "        combined_data = stock_data \n",
    "    else: # Otherwise, join the current stock data to the combined DataFrame\n",
    "        combined_data = combined_data.join(stock_data, how='outer') # Join the current stock data to the combined DataFrame\n",
    "\n",
    "combined_data.reset_index(inplace=True) # Reset the index of the combined DataFrame\n",
    "\n",
    "combined_data.to_csv('stock_data.csv', index=False) # Save the combined stock data to a CSV file\n",
    "print(\"Combined stock data saved to stock_data.csv\") # Print a message to indicate that the data has been saved"
   ]
  },
  {
   "cell_type": "markdown",
   "metadata": {},
   "source": [
    "__Guardian__"
   ]
  },
  {
   "cell_type": "markdown",
   "metadata": {},
   "source": [
    "To get relevant articles from the Guardian, we search all articles since the beginning of 2012 for the names of the companies of the stocks as well for the keywords _stocks_ or _economy_, to capture also overall economic news and not just specific news to our chosen stocks in our sentiment analysis."
   ]
  },
  {
   "cell_type": "code",
   "execution_count": 43,
   "metadata": {},
   "outputs": [],
   "source": [
    "import requests"
   ]
  },
  {
   "cell_type": "code",
   "execution_count": 44,
   "metadata": {},
   "outputs": [],
   "source": [
    "def get_articles(api_key, query, cutoff_date, page_size=200): # function to get articles from the Guardian API\n",
    "    all_articles = [] # list to store all articles\n",
    "    page = 1 # page number to start with\n",
    "    cutoff_date = datetime.strptime(cutoff_date, '%Y-%m-%d') # parse the cutoff date\n",
    "    while True: # loop to retrieve all articles\n",
    "        url = f\"https://content.guardianapis.com/search\" # API endpoint\n",
    "        params = { # parameters to pass to the API\n",
    "            'api-key': api_key, # API key\n",
    "            'q': query, # query to search for\n",
    "            'page-size': page_size, # number of articles per page\n",
    "            'page': page, # page number\n",
    "            'show-fields': 'headline,trailText,bodyText', # fields to show in the response\n",
    "            'order-by': 'newest' # order articles by newest\n",
    "        }\n",
    "        response = requests.get(url, params=params) # send a GET request to the API\n",
    "        data = response.json() # parse the JSON response\n",
    "\n",
    "        if 'response' not in data or 'results' not in data['response']: # check if the response is malformed\n",
    "            print(\"No more articles found or API response is malformed.\") # print a message\n",
    "            break # break the loop\n",
    "\n",
    "        articles = data['response']['results'] # get the articles from the response\n",
    "        for article in articles: # loop through the articles\n",
    "            if article.get('type') == 'article':  # check if the type is 'article'\n",
    "                pub_date = datetime.strptime(article['webPublicationDate'][:10], '%Y-%m-%d') # parse the publication date\n",
    "                if pub_date <= cutoff_date: # check if the publication date is earlier than or equal to the cutoff date\n",
    "                    print(\"Reached articles older than cutoff date.\")\n",
    "                    return all_articles # return the articles collected so far\n",
    "                all_articles.append(article) # add the article to the list\n",
    "\n",
    "        if len(articles) < page_size: # check if the number of articles is less than the page size\n",
    "            break # break the loop\n",
    "\n",
    "        page += 1 # increment the page number\n",
    "\n",
    "    return all_articles # return all articles\n",
    "\n",
    "def main_guardian(api_key): # main function to run the program\n",
    "    relevant_tags_query = '(stocks OR economy OR Nvidia OR AMD OR Intel OR Microsoft OR Tesla OR Apple OR Amazon OR Meta OR Facebook OR Alphabet OR Google OR Broadcom)'\n",
    "# query to search for relevant tags\n",
    "    cutoff_date = '2012-02-01' # specify the cutoff date\n",
    "    \n",
    "    articles = get_articles(api_key, relevant_tags_query, cutoff_date, page_size=200) # get the articles\n",
    "    print(f\"Retrieved {len(articles)} articles with query '{relevant_tags_query}' from the Guardian.\") # print the number of articles\n",
    "\n",
    "    articles_data = [] # list to store the articles data\n",
    "    for article in articles: # loop through the articles\n",
    "        if 'fields' in article: # check if the article has fields\n",
    "            articles_data.append({ # add the article data to the list\n",
    "                'webPublicationDate': article['webPublicationDate'], # publication date\n",
    "                'headline': article['fields'].get('headline', ''), # headline\n",
    "                'trailText': article['fields'].get('trailText', ''), # trail text\n",
    "                'bodyText': article['fields'].get('bodyText', '') # body text\n",
    "            })\n",
    "\n",
    "    df = pd.DataFrame(articles_data) # create a DataFrame from the articles data\n",
    "    df.to_csv('guardian_articles.csv', index=False) # save the DataFrame to a CSV file\n",
    "    print(\"Articles saved to guardian_business_articles_with_tags.csv\") # print a message"
   ]
  },
  {
   "cell_type": "code",
   "execution_count": 45,
   "metadata": {},
   "outputs": [
    {
     "name": "stdout",
     "output_type": "stream",
     "text": [
      "No more articles found or API response is malformed.\n",
      "Retrieved 34198 articles with query '(stocks OR economy OR Nvidia OR AMD OR Intel OR Microsoft OR Tesla OR Apple OR Amazon OR Meta OR Facebook OR Alphabet OR Google OR Broadcom)' from the Guardian.\n",
      "Articles saved to guardian_business_articles_with_tags.csv\n"
     ]
    }
   ],
   "source": [
    "api_key = 'b425e693-8264-421f-a5fa-c6b79c603e58' # API key\n",
    "\n",
    "main_guardian(api_key) # run the program for the Guardian"
   ]
  },
  {
   "cell_type": "markdown",
   "metadata": {},
   "source": [
    "__Reddit__"
   ]
  },
  {
   "cell_type": "markdown",
   "metadata": {},
   "source": [
    "We also do the same for the 4 subreddits, with the only change, that we also search for the tickers of the stocks, since stocks are often called only by their tickers in the discussions on reddit and not by their companies full names."
   ]
  },
  {
   "cell_type": "code",
   "execution_count": 46,
   "metadata": {},
   "outputs": [],
   "source": [
    "def get_reddit_posts(client_id, client_secret, user_agent, subreddits, keywords, cutoff_date): # function to get Reddit posts\n",
    "    \n",
    "    all_posts = [] # list to store all posts\n",
    "    cutoff_date = datetime.strptime(cutoff_date, '%Y-%m-%d') # parse the cutoff date\n",
    "\n",
    "    for subreddit in subreddits: # loop through the subreddits\n",
    "        subreddit_instance = reddit.subreddit(subreddit) # get the subreddit instance\n",
    "        for submission in subreddit_instance.new(limit=None): # loop through the new submissions\n",
    "            post_date = datetime.fromtimestamp(submission.created_utc) # parse the post date\n",
    "            if post_date <= cutoff_date: # check if the post date is earlier than or equal to the cutoff date\n",
    "                print(f\"Reached posts older than cutoff date in subreddit {subreddit}.\") # print a message\n",
    "                break\n",
    "            \n",
    "            # Check if the submission title or body contains any of the keywords\n",
    "            if any(keyword.lower() in submission.title.lower() or keyword.lower() in submission.selftext.lower() for keyword in keywords):\n",
    "                comments = [] # list to store comments\n",
    "                submission.comments.replace_more(limit=0) # replace the 'MoreComments' objects\n",
    "                for comment in submission.comments.list(): # loop through the comments\n",
    "                    comments.append(comment.body) # add the comment to the list\n",
    "                \n",
    "                all_posts.append({ # add the post data to the list\n",
    "                    'created_utc': post_date, # post date\n",
    "                    'title': submission.title, # post title\n",
    "                    'selftext': submission.selftext, # post body\n",
    "                    'comments': ' || '.join(comments) # comments\n",
    "                })\n",
    "    \n",
    "    return all_posts # return all posts\n",
    "\n",
    "def main_reddit(): # main function to run the program\n",
    "    client_id = 'your_client_id' # client ID\n",
    "    client_secret = 'your_client_secret' # client secret\n",
    "    user_agent = 'your_user_agent' # user agent\n",
    "    subreddits = ['StockMarket', 'stocks', 'wallstreetbets', 'investing'] # list of subreddits to scrape\n",
    "    keywords = [\n",
    "    'stocks', 'economy',\n",
    "    'Nvidia', 'NVDA',\n",
    "    'AMD', 'AMD',\n",
    "    'Intel', 'INTC',\n",
    "    'Microsoft', 'MSFT',\n",
    "    'Tesla', 'TSLA',\n",
    "    'Apple', 'AAPL',\n",
    "    'Amazon', 'AMZN',\n",
    "    'Meta', 'META',\n",
    "    'Alphabet', 'GOOGL',\n",
    "    'Broadcom', 'AVGO'\n",
    "] # keywords to search for\n",
    "    cutoff_date = '2012-02-01' # specify the cutoff date\n",
    "    \n",
    "    # Get Reddit posts\n",
    "    posts = get_reddit_posts(client_id, client_secret, user_agent, subreddits, keywords, cutoff_date)\n",
    "    print(f\"Retrieved {len(posts)} posts from Reddit.\") # print the number of posts\n",
    "\n",
    "    # Save the posts to a CSV file\n",
    "    df = pd.DataFrame(posts)\n",
    "    df.to_csv('reddit_posts.csv', index=False)\n",
    "    print(\"Posts saved to reddit_posts.csv\")"
   ]
  },
  {
   "cell_type": "code",
   "execution_count": 47,
   "metadata": {},
   "outputs": [
    {
     "name": "stdout",
     "output_type": "stream",
     "text": [
      "Retrieved 1495 posts from Reddit.\n",
      "Posts saved to reddit_posts.csv\n"
     ]
    }
   ],
   "source": [
    "main_reddit() # run the program for Reddit"
   ]
  },
  {
   "cell_type": "markdown",
   "metadata": {},
   "source": [
    "Finally we will combine both the articles from the Guardian and the post from reddit to one single data frame, so that we can create a bag of words model out of it. For this we will combine them according to the date, so we will drop possible information contained in the time of day at which a reddit post is posted. Because we are interesting in detecting hypes over a timeframe of roughly a month, we believe this information is not relevant, since at which time of the day a post is posted, could maybe indicate price movements on the next day, but not the next month."
   ]
  },
  {
   "cell_type": "code",
   "execution_count": 48,
   "metadata": {},
   "outputs": [
    {
     "name": "stdout",
     "output_type": "stream",
     "text": [
      "Combined data saved to combined_data.csv\n"
     ]
    }
   ],
   "source": [
    "guardian_data = pd.read_csv('guardian_articles.csv') # Load the Guardian articles data\n",
    "guardian_data['webPublicationDate'] = pd.to_datetime(guardian_data['webPublicationDate']).dt.date # Convert the publication date to date format\n",
    "\n",
    "reddit_data = pd.read_csv('reddit_posts.csv') # Load the Reddit posts data\n",
    "reddit_data['created_utc'] = pd.to_datetime(reddit_data['created_utc']).dt.date # Convert the post date to date format\n",
    "\n",
    "stock_data = pd.read_csv('stock_data.csv') # Load the stock data\n",
    "stock_data['Date'] = pd.to_datetime(stock_data['Date'], utc=True).dt.date # Convert the date to date format\n",
    "\n",
    "def concatenate_text(series): # function to concatenate text in a Series\n",
    "    return ' '.join(series.dropna().astype(str)) # concatenate the text values\n",
    "\n",
    "guardian_agg = guardian_data.groupby('webPublicationDate').agg({ # Aggregate the Guardian data by publication date\n",
    "    'headline': concatenate_text, # concatenate the headlines\n",
    "    'trailText': concatenate_text, # concatenate the trail texts\n",
    "    'bodyText': concatenate_text # concatenate the body texts\n",
    "}).rename(columns={ # rename the columns\n",
    "    'headline': 'guardian_headlines', # headlines\n",
    "    'trailText': 'guardian_trailTexts', # trail texts\n",
    "    'bodyText': 'guardian_bodyTexts' # body texts\n",
    "}).reset_index() \n",
    "\n",
    "reddit_agg = reddit_data.groupby('created_utc').agg({ # Aggregate the Reddit data by post date\n",
    "    'title': concatenate_text, # concatenate the titles\n",
    "    'selftext': concatenate_text, # concatenate the selftexts\n",
    "    'comments': concatenate_text # concatenate the comments\n",
    "}).rename(columns={ # rename the columns\n",
    "    'title': 'reddit_titles', # titles\n",
    "    'selftext': 'reddit_selftexts', # selftexts\n",
    "    'comments': 'reddit_comments' # comments\n",
    "}).reset_index()\n",
    "\n",
    "# Merge the aggregated Guardian and Reddit data with the stock data\n",
    "combined_data = stock_data.merge(guardian_agg, left_on='Date', right_on='webPublicationDate', how='left')\n",
    "combined_data = combined_data.merge(reddit_agg, left_on='Date', right_on='created_utc', how='left')\n",
    "\n",
    "# Fill NaN values with empty strings for text fields and 0 for numeric fields\n",
    "text_fields = ['guardian_headlines', 'guardian_trailTexts', 'guardian_bodyTexts', 'reddit_titles', 'reddit_selftexts', 'reddit_comments']\n",
    "combined_data[text_fields] = combined_data[text_fields].fillna('')\n",
    "\n",
    "combined_data['combined_text'] = ( # Combine all text fields into a single field\n",
    "    combined_data['guardian_headlines'] + ' ' + \n",
    "    combined_data['guardian_trailTexts'] + ' ' +\n",
    "    combined_data['guardian_bodyTexts'] + ' ' +\n",
    "    combined_data['reddit_titles'] + ' ' +\n",
    "    combined_data['reddit_selftexts'] + ' ' +\n",
    "    combined_data['reddit_comments']\n",
    ")\n",
    "\n",
    "# Create the aggregated text column using the last 20 days\n",
    "combined_data['aggregated_text'] = ''\n",
    "window_size = 20\n",
    "\n",
    "for i in range(len(combined_data)):\n",
    "    start_idx = max(0, i - window_size + 1)\n",
    "    # Aggregate the text from the last 20 days (or fewer if at the start)\n",
    "    aggregated_text = ' '.join(combined_data.iloc[start_idx:i+1]['combined_text'])\n",
    "    combined_data.at[i, 'aggregated_text'] = aggregated_text\n",
    "\n",
    "# Drop the redundant columns\n",
    "combined_data.drop(columns=['webPublicationDate', 'created_utc', 'guardian_headlines', 'guardian_trailTexts', 'guardian_bodyTexts', 'reddit_titles', 'reddit_selftexts', 'reddit_comments'], inplace=True)\n",
    "\n",
    "# Drop rows with NaN in target variables\n",
    "target_columns = [\n",
    "    'NVDA_hype_next_month',\n",
    "    'AMD_hype_next_month',\n",
    "    'INTC_hype_next_month',\n",
    "    'MSFT_hype_next_month',\n",
    "    'TSLA_hype_next_month',\n",
    "    'AAPL_hype_next_month',\n",
    "    'AMZN_hype_next_month',\n",
    "    'META_hype_next_month',\n",
    "    'GOOGL_hype_next_month',\n",
    "    'AVGO_hype_next_month']\n",
    "combined_data = combined_data.dropna(subset=target_columns)\n",
    "\n",
    "# Save the combined data to a CSV file\n",
    "combined_data.to_csv('combined_data.csv', index=False)\n",
    "print(\"Combined data saved to combined_data.csv\")"
   ]
  },
  {
   "cell_type": "markdown",
   "metadata": {},
   "source": [
    "#### Models"
   ]
  },
  {
   "cell_type": "markdown",
   "metadata": {},
   "source": [
    "__Bag of Words Model__"
   ]
  },
  {
   "cell_type": "markdown",
   "metadata": {},
   "source": [
    "To perform sentiment analysis using the collected data, we first need to fit and transform the text data. For this we use the _TfidVectorizer_ , because it not only focuses on the frequency of words present in the corpus but also provides the importance of the words.\n",
    "\n",
    "In addition to creating the bag of words model, we also have a quick look on distribution of our binary target variables, since one has to expect imbalances between these two targets, since hypes might not occur so often.\n",
    "\n",
    "When visualising the target variable, it is immediately clear, that we deal with a great imbalance between the two states. Non hypes are much more frequent for all stocks we are looking at. This is something we have to consider and address in the specification of our models, as well at the interpretation of their performance."
   ]
  },
  {
   "cell_type": "code",
   "execution_count": 49,
   "metadata": {},
   "outputs": [],
   "source": [
    "from sklearn.feature_extraction.text import TfidfVectorizer\n",
    "from sklearn.model_selection import train_test_split"
   ]
  },
  {
   "cell_type": "code",
   "execution_count": 50,
   "metadata": {},
   "outputs": [],
   "source": [
    "df = pd.read_csv('combined_data.csv') # read the merged data from the CSV file"
   ]
  },
  {
   "cell_type": "code",
   "execution_count": 51,
   "metadata": {},
   "outputs": [],
   "source": [
    "df = df.sort_values('Date') # sort the data by publication date\n",
    "    \n",
    "split_idx = int(0.8 * len(df)) # 80-20 train-test split\n",
    "train_df = df[:split_idx] # training data\n",
    "test_df = df[split_idx:] # test data\n",
    "\n",
    "vectorizer = TfidfVectorizer(stop_words='english') # initialize the TF-IDF vectorizer\n",
    "combined_train = vectorizer.fit_transform(train_df['combined_text']) # fit and transform the training text data\n",
    "combined_test = vectorizer.transform(test_df['combined_text']) # transform the test text data\n",
    "\n",
    "hype20_train = np.sign(train_df[[\n",
    "    'NVDA_hype_next_month',\n",
    "    'AMD_hype_next_month',\n",
    "    'INTC_hype_next_month',\n",
    "    'MSFT_hype_next_month',\n",
    "    'TSLA_hype_next_month',\n",
    "    'AAPL_hype_next_month',\n",
    "    'AMZN_hype_next_month',\n",
    "    'META_hype_next_month',\n",
    "    'GOOGL_hype_next_month',\n",
    "    'AVGO_hype_next_month'\n",
    "]]) # convert the returns to binary labels\n",
    "hype20_test = np.sign(test_df[[\n",
    "    'NVDA_hype_next_month',\n",
    "    'AMD_hype_next_month',\n",
    "    'INTC_hype_next_month',\n",
    "    'MSFT_hype_next_month',\n",
    "    'TSLA_hype_next_month',\n",
    "    'AAPL_hype_next_month',\n",
    "    'AMZN_hype_next_month',\n",
    "    'META_hype_next_month',\n",
    "    'GOOGL_hype_next_month',\n",
    "    'AVGO_hype_next_month'\n",
    "]]) # convert the returns to binary labels\n"
   ]
  },
  {
   "cell_type": "code",
   "execution_count": 52,
   "metadata": {},
   "outputs": [],
   "source": [
    "import matplotlib.pyplot as plt"
   ]
  },
  {
   "cell_type": "code",
   "execution_count": 53,
   "metadata": {},
   "outputs": [
    {
     "data": {
      "image/png": "[encoded data removed]",
      "text/plain": [
       "<Figure size 1200x600 with 1 Axes>"
      ]
     },
     "metadata": {},
     "output_type": "display_data"
    }
   ],
   "source": [
    "# Prepare data for next month targets\n",
    "next_month_data = []\n",
    "next_month_labels = []\n",
    "next_month_imbalance_ratios = []\n",
    "\n",
    "for column in train_df.columns:\n",
    "    if 'next_month' in column:\n",
    "        class_counts = train_df[column].value_counts().sort_index()\n",
    "        imbalance_ratio = class_counts.min() / class_counts.max()\n",
    "        next_month_data.append(class_counts)\n",
    "        next_month_labels.append(column)\n",
    "        next_month_imbalance_ratios.append(imbalance_ratio)\n",
    "\n",
    "# Function to plot class distributions for each set of targets with imbalance ratios\n",
    "def plot_class_distributions(data, labels, imbalance_ratios, title):\n",
    "    num_targets = len(data)\n",
    "    num_classes = 2  # Assuming binary classification (0 and 1)\n",
    "    \n",
    "    # Create a DataFrame for plotting\n",
    "    df_plot = pd.DataFrame(index=range(num_classes), columns=labels)\n",
    "    for i, counts in enumerate(data):\n",
    "        df_plot[labels[i]] = counts\n",
    "    \n",
    "    # Plot\n",
    "    ax = df_plot.plot(kind='bar', figsize=(12, 6), width=0.8)\n",
    "    plt.title(title)\n",
    "    plt.xlabel('Class')\n",
    "    plt.ylabel('Frequency')\n",
    "    plt.xticks(ticks=[0, 1], labels=['No Hype', 'Hype'], rotation=0)\n",
    "    \n",
    "    plt.legend(title='Stocks', bbox_to_anchor=(1.05, 1), loc='upper left')\n",
    "    plt.tight_layout()\n",
    "    plt.show()\n",
    "\n",
    "# Plot combined class distribution for next month targets\n",
    "plot_class_distributions(next_month_data, next_month_labels, next_month_imbalance_ratios, 'Class Distribution for Next Month Targets')"
   ]
  },
  {
   "cell_type": "markdown",
   "metadata": {},
   "source": [
    "__Random Forest__"
   ]
  },
  {
   "cell_type": "markdown",
   "metadata": {},
   "source": [
    "Our first model we try to train is a simple multioutput random forest classifier. To address the imbalance we make sure to set the _classweight_ attribute of the function to _balanced_.\n",
    "\n",
    "Since sentiment analysis in finance involves dealing with noisy data where outliers and conflicting sentiments can occur frequently, using a random forest classifier can make sense, because it is an ensemble method that aggregates predictions from multiple decision trees, which helps in smoothing out noise and reducing the impact of outliers."
   ]
  },
  {
   "cell_type": "code",
   "execution_count": 54,
   "metadata": {},
   "outputs": [],
   "source": [
    "from sklearn.model_selection import train_test_split, GridSearchCV, cross_val_score\n",
    "from sklearn.ensemble import RandomForestClassifier\n",
    "from sklearn.multioutput import MultiOutputClassifier\n",
    "from sklearn.metrics import accuracy_score, f1_score, precision_score, recall_score"
   ]
  },
  {
   "cell_type": "code",
   "execution_count": 55,
   "metadata": {},
   "outputs": [],
   "source": [
    "# Define target columns for next month\n",
    "next_month_targets = [\n",
    "    'NVDA_hype_next_month',\n",
    "    'AMD_hype_next_month',\n",
    "    'INTC_hype_next_month',\n",
    "    'MSFT_hype_next_month',\n",
    "    'TSLA_hype_next_month',\n",
    "    'AAPL_hype_next_month',\n",
    "    'AMZN_hype_next_month',\n",
    "    'META_hype_next_month',\n",
    "    'GOOGL_hype_next_month',\n",
    "    'AVGO_hype_next_month'\n",
    "]\n",
    "\n",
    "def train_random_forest(X_train, y_train, X_test, y_test):\n",
    "    # Use next month targets directly\n",
    "    target_columns = next_month_targets\n",
    "    \n",
    "    rf = RandomForestClassifier(random_state=42, class_weight='balanced')  # Initialize the Random Forest classifier\n",
    "    multi_target_rf = MultiOutputClassifier(rf, n_jobs=-1)  # MultiOutputClassifier with Random Forest as base\n",
    "    \n",
    "    # Use GridSearchCV to find the best parameters\n",
    "    grid_search = GridSearchCV(estimator=multi_target_rf, param_grid=param_grid, cv=2, scoring='accuracy')\n",
    "    grid_search.fit(X_train, y_train)  # Fit the GridSearchCV\n",
    "    \n",
    "    best_rf = grid_search.best_estimator_  # Best Random Forest model\n",
    "    best_rf.fit(X_train, y_train)  # Fit the best Random Forest model\n",
    "    \n",
    "    # Calculate the training and test accuracy\n",
    "    train_predictions = best_rf.predict(X_train)\n",
    "    test_predictions = best_rf.predict(X_test)\n",
    "    \n",
    "    train_accuracy = accuracy_score(y_train, train_predictions)  # Overall training accuracy\n",
    "    test_accuracy = accuracy_score(y_test, test_predictions)  # Overall test accuracy\n",
    "    \n",
    "    print(f\"Best parameters found: {grid_search.best_params_}\")\n",
    "    \n",
    "    # Calculate overall metrics\n",
    "    overall_precision_train = precision_score(y_train, train_predictions, average='macro', zero_division=0)\n",
    "    overall_recall_train = recall_score(y_train, train_predictions, average='macro', zero_division=0)\n",
    "    overall_f1_train = f1_score(y_train, train_predictions, average='macro', zero_division=0)\n",
    "\n",
    "    overall_precision_test = precision_score(y_test, test_predictions, average='macro', zero_division=0)\n",
    "    overall_recall_test = recall_score(y_test, test_predictions, average='macro', zero_division=0)\n",
    "    overall_f1_test = f1_score(y_test, test_predictions, average='macro', zero_division=0)\n",
    "    \n",
    "    # Create DataFrame for overall metrics\n",
    "    overall_metrics = pd.DataFrame({\n",
    "        'Dataset': ['Training', 'Test'],\n",
    "        'Accuracy': [train_accuracy, test_accuracy],\n",
    "        'Precision': [overall_precision_train, overall_precision_test],\n",
    "        'Recall': [overall_recall_train, overall_recall_test],\n",
    "        'F1 Score': [overall_f1_train, overall_f1_test]\n",
    "    })\n",
    "    \n",
    "    # Create DataFrame for per-stock metrics\n",
    "    stock_metrics = []\n",
    "    for i, column in enumerate(target_columns):\n",
    "        stock_train_accuracy = accuracy_score(y_train.iloc[:, i], train_predictions[:, i])\n",
    "        stock_test_accuracy = accuracy_score(y_test.iloc[:, i], test_predictions[:, i])\n",
    "        stock_precision = precision_score(y_test.iloc[:, i], test_predictions[:, i], zero_division=0)\n",
    "        stock_recall = recall_score(y_test.iloc[:, i], test_predictions[:, i], zero_division=0)\n",
    "        stock_f1 = f1_score(y_test.iloc[:, i], test_predictions[:, i], zero_division=0)\n",
    "        \n",
    "        stock_metrics.append({\n",
    "            'Stock': column,\n",
    "            'Training Accuracy': stock_train_accuracy,\n",
    "            'Test Accuracy': stock_test_accuracy,\n",
    "            'Precision': stock_precision,\n",
    "            'Recall': stock_recall,\n",
    "            'F1 Score': stock_f1\n",
    "        })\n",
    "    \n",
    "    stock_metrics_df = pd.DataFrame(stock_metrics)\n",
    "    \n",
    "    # Display the overall metrics\n",
    "    print(\"\\nOverall Metrics:\")\n",
    "    print(overall_metrics.to_string(index=False))\n",
    "    \n",
    "    # Display the per-stock metrics\n",
    "    print(\"\\nPer-Stock Metrics:\")\n",
    "    print(stock_metrics_df.to_string(index=False))\n",
    "\n",
    "param_grid = {\n",
    "    'estimator__n_estimators': [50, 100, 200, 500],  # Number of trees in the forest\n",
    "    'estimator__max_depth': [5, 10, 20, None]  # Maximum depth of the tree\n",
    "}"
   ]
  },
  {
   "cell_type": "code",
   "execution_count": 56,
   "metadata": {},
   "outputs": [
    {
     "name": "stdout",
     "output_type": "stream",
     "text": [
      "Best parameters found: {'estimator__max_depth': 5, 'estimator__n_estimators': 200}\n",
      "\n",
      "Overall Metrics:\n",
      " Dataset  Accuracy  Precision   Recall  F1 Score\n",
      "Training  0.197131   0.626748 0.642031  0.495554\n",
      "    Test  0.009820   0.161221 0.213130  0.116689\n",
      "\n",
      "Per-Stock Metrics:\n",
      "                Stock  Training Accuracy  Test Accuracy  Precision   Recall  F1 Score\n",
      " NVDA_hype_next_month           0.802459       0.423895   0.381779 0.724280  0.500000\n",
      "  AMD_hype_next_month           0.508607       0.703764   0.833333 0.027027  0.052356\n",
      " INTC_hype_next_month           0.948361       0.841244   0.000000 0.000000  0.000000\n",
      " MSFT_hype_next_month           0.958197       0.891980   0.000000 0.000000  0.000000\n",
      " TSLA_hype_next_month           0.745492       0.271686   0.260000 0.993631  0.412153\n",
      " AAPL_hype_next_month           0.902869       0.561375   0.137097 0.386364  0.202381\n",
      " AMZN_hype_next_month           0.394262       0.823241   0.000000 0.000000  0.000000\n",
      " META_hype_next_month           0.400000       0.731588   0.000000 0.000000  0.000000\n",
      "GOOGL_hype_next_month           0.941393       0.869067   0.000000 0.000000  0.000000\n",
      " AVGO_hype_next_month           0.428279       0.772504   0.000000 0.000000  0.000000\n"
     ]
    }
   ],
   "source": [
    "train_random_forest(combined_train, hype20_train, combined_test, hype20_test) # train the Random Forest model    "
   ]
  },
  {
   "cell_type": "markdown",
   "metadata": {},
   "source": [
    "Although some test accuracies, for instance Google, Microsoft and AMD are quite promising, when looking at the precision metric, it does not look that good any more. \n",
    "\n",
    "For most of the stocks the precision is 0, even if the test accuracy was quite high, like in the case of Google. This finding is most likely driven by the high imbalance, since the model predicts quite accurately, only because there are much lesser hypes than non hypes and it is not able to detect any hypes for Google. Looking at the graph above, we can see this also, since for Google, the imbalance is one of the greatest for the stocks.\n",
    "\n",
    "An interesting case is AMD, since the test accuracy is quite good and precision too, the positive predictions are mostly correct, but recall is really low, indicating we miss many true positives."
   ]
  },
  {
   "cell_type": "markdown",
   "metadata": {},
   "source": [
    "__Gradient Boosting__"
   ]
  },
  {
   "cell_type": "markdown",
   "metadata": {},
   "source": [
    "To furhter address the imbalance in the target variable, which most likely causes the really low precision, we try a gradient boosting via _XGBoost_. Since XGBoost allows for the use of weighted loss functions, it could help to counter the imbalance. Here we use for each stock their imbalance ratio as a weight, which should help to train the model better."
   ]
  },
  {
   "cell_type": "code",
   "execution_count": 58,
   "metadata": {},
   "outputs": [],
   "source": [
    "from xgboost import XGBClassifier"
   ]
  },
  {
   "cell_type": "code",
   "execution_count": 59,
   "metadata": {},
   "outputs": [],
   "source": [
    "def calculate_scale_pos_weights(y_train):\n",
    "    \"\"\"\n",
    "    Calculate the scale_pos_weight for each target based on the imbalance ratio.\n",
    "\n",
    "    Parameters:\n",
    "    y_train (DataFrame): Training labels for stock hype prediction.\n",
    "\n",
    "    Returns:\n",
    "    dict: A dictionary of scale_pos_weights for each target.\n",
    "    \"\"\"\n",
    "    scale_pos_weights = {}\n",
    "    for column in y_train.columns:\n",
    "        class_counts = y_train[column].value_counts()\n",
    "        # Avoid division by zero by setting a high weight if the minority class is missing\n",
    "        if len(class_counts) < 2:\n",
    "            scale_pos_weights[column] = 1.0\n",
    "        else:\n",
    "            scale_pos_weights[column] = class_counts[0] / class_counts[1] if class_counts[1] != 0 else class_counts[0]\n",
    "    return scale_pos_weights\n",
    "\n",
    "def train_multioutput_xgboost(combined_train, combined_test, hype_train, hype_test):\n",
    "    \"\"\"\n",
    "    Train a MultiOutput XGBoost model for predicting stock hype.\n",
    "\n",
    "    Parameters:\n",
    "    combined_train (sparse matrix): TF-IDF transformed training text data.\n",
    "    combined_test (sparse matrix): TF-IDF transformed test text data.\n",
    "    hype_train (DataFrame): Training labels for stock hype prediction.\n",
    "    hype_test (DataFrame): Test labels for stock hype prediction.\n",
    "\n",
    "    Returns:\n",
    "    None: Prints evaluation metrics for the model.\n",
    "    \"\"\"\n",
    "    \n",
    "    # Calculate scale_pos_weights based on the training data imbalance\n",
    "    scale_pos_weights = calculate_scale_pos_weights(hype_train)\n",
    "\n",
    "    # Initialize XGBoost classifiers for each target with corresponding weights\n",
    "    xgb_clf = XGBClassifier(\n",
    "        random_state=42,\n",
    "        use_label_encoder=False,\n",
    "        eval_metric='logloss'\n",
    "    )\n",
    "\n",
    "    # Wrap the classifiers with MultiOutputClassifier\n",
    "    multi_output_xgb = MultiOutputClassifier(estimator=xgb_clf, n_jobs=-1)\n",
    "    \n",
    "    # Fit the model\n",
    "    multi_output_xgb.fit(combined_train, hype_train)\n",
    "    \n",
    "    # Predict on the test set\n",
    "    test_predictions = multi_output_xgb.predict(combined_test)\n",
    "    \n",
    "    # Store metrics for each target\n",
    "    stock_metrics = []\n",
    "    for i, column in enumerate(hype_test.columns):\n",
    "        test_accuracy = accuracy_score(hype_test[column], test_predictions[:, i])\n",
    "        test_f1 = f1_score(hype_test[column], test_predictions[:, i], zero_division=0)\n",
    "        test_precision = precision_score(hype_test[column], test_predictions[:, i], zero_division=0)\n",
    "        test_recall = recall_score(hype_test[column], test_predictions[:, i], zero_division=0)\n",
    "        \n",
    "        stock_metrics.append({\n",
    "            'Stock': column,\n",
    "            'Test Accuracy': test_accuracy,\n",
    "            'Precision': test_precision,\n",
    "            'Recall': test_recall,\n",
    "            'F1 Score': test_f1\n",
    "        })\n",
    "\n",
    "    stock_metrics_df = pd.DataFrame(stock_metrics)\n",
    "\n",
    "    # Calculate overall metrics for all targets combined\n",
    "    overall_accuracy = accuracy_score(hype_test, test_predictions)\n",
    "    overall_precision = precision_score(hype_test, test_predictions, average='macro', zero_division=0)\n",
    "    overall_recall = recall_score(hype_test, test_predictions, average='macro', zero_division=0)\n",
    "    overall_f1 = f1_score(hype_test, test_predictions, average='macro', zero_division=0)\n",
    "    \n",
    "    # Create DataFrame for overall metrics\n",
    "    overall_metrics = pd.DataFrame({\n",
    "        'Metric': ['Accuracy', 'Precision', 'Recall', 'F1 Score'],\n",
    "        'Score': [overall_accuracy, overall_precision, overall_recall, overall_f1]\n",
    "    })\n",
    "\n",
    "    # Display the overall metrics\n",
    "    print(\"Overall Model Metrics:\")\n",
    "    print(overall_metrics.to_string(index=False))\n",
    "    \n",
    "    # Display the per-stock metrics\n",
    "    print(\"\\nIndividual Stock Metrics:\")\n",
    "    print(stock_metrics_df.to_string(index=False))\n",
    "\n"
   ]
  },
  {
   "cell_type": "code",
   "execution_count": 60,
   "metadata": {},
   "outputs": [
    {
     "name": "stderr",
     "output_type": "stream",
     "text": [
      "/Users/lorissultano/Library/Python/3.9/lib/python/site-packages/xgboost/core.py:158: UserWarning: [15:37:46] WARNING: /Users/runner/work/xgboost/xgboost/src/learner.cc:740: \n",
      "Parameters: { \"use_label_encoder\" } are not used.\n",
      "\n",
      "  warnings.warn(smsg, UserWarning)\n",
      "/Users/lorissultano/Library/Python/3.9/lib/python/site-packages/xgboost/core.py:158: UserWarning: [15:37:46] WARNING: /Users/runner/work/xgboost/xgboost/src/learner.cc:740: \n",
      "Parameters: { \"use_label_encoder\" } are not used.\n",
      "\n",
      "  warnings.warn(smsg, UserWarning)\n",
      "/Users/lorissultano/Library/Python/3.9/lib/python/site-packages/xgboost/core.py:158: UserWarning: [15:37:46] WARNING: /Users/runner/work/xgboost/xgboost/src/learner.cc:740: \n",
      "Parameters: { \"use_label_encoder\" } are not used.\n",
      "\n",
      "  warnings.warn(smsg, UserWarning)\n",
      "/Users/lorissultano/Library/Python/3.9/lib/python/site-packages/xgboost/core.py:158: UserWarning: [15:37:46] WARNING: /Users/runner/work/xgboost/xgboost/src/learner.cc:740: \n",
      "Parameters: { \"use_label_encoder\" } are not used.\n",
      "\n",
      "  warnings.warn(smsg, UserWarning)\n",
      "/Users/lorissultano/Library/Python/3.9/lib/python/site-packages/xgboost/core.py:158: UserWarning: [15:40:03] WARNING: /Users/runner/work/xgboost/xgboost/src/learner.cc:740: \n",
      "Parameters: { \"use_label_encoder\" } are not used.\n",
      "\n",
      "  warnings.warn(smsg, UserWarning)\n",
      "/Users/lorissultano/Library/Python/3.9/lib/python/site-packages/xgboost/core.py:158: UserWarning: [15:40:17] WARNING: /Users/runner/work/xgboost/xgboost/src/learner.cc:740: \n",
      "Parameters: { \"use_label_encoder\" } are not used.\n",
      "\n",
      "  warnings.warn(smsg, UserWarning)\n",
      "/Users/lorissultano/Library/Python/3.9/lib/python/site-packages/xgboost/core.py:158: UserWarning: [15:41:41] WARNING: /Users/runner/work/xgboost/xgboost/src/learner.cc:740: \n",
      "Parameters: { \"use_label_encoder\" } are not used.\n",
      "\n",
      "  warnings.warn(smsg, UserWarning)\n",
      "/Users/lorissultano/Library/Python/3.9/lib/python/site-packages/xgboost/core.py:158: UserWarning: [15:41:48] WARNING: /Users/runner/work/xgboost/xgboost/src/learner.cc:740: \n",
      "Parameters: { \"use_label_encoder\" } are not used.\n",
      "\n",
      "  warnings.warn(smsg, UserWarning)\n",
      "/Users/lorissultano/Library/Python/3.9/lib/python/site-packages/xgboost/core.py:158: UserWarning: [15:43:28] WARNING: /Users/runner/work/xgboost/xgboost/src/learner.cc:740: \n",
      "Parameters: { \"use_label_encoder\" } are not used.\n",
      "\n",
      "  warnings.warn(smsg, UserWarning)\n",
      "/Users/lorissultano/Library/Python/3.9/lib/python/site-packages/xgboost/core.py:158: UserWarning: [15:43:52] WARNING: /Users/runner/work/xgboost/xgboost/src/learner.cc:740: \n",
      "Parameters: { \"use_label_encoder\" } are not used.\n",
      "\n",
      "  warnings.warn(smsg, UserWarning)\n"
     ]
    },
    {
     "name": "stdout",
     "output_type": "stream",
     "text": [
      "Overall Model Metrics:\n",
      "   Metric    Score\n",
      " Accuracy 0.248773\n",
      "Precision 0.135536\n",
      "   Recall 0.034389\n",
      " F1 Score 0.047248\n",
      "\n",
      "Individual Stock Metrics:\n",
      "                Stock  Test Accuracy  Precision   Recall  F1 Score\n",
      " NVDA_hype_next_month       0.540098   0.288889 0.106996  0.156156\n",
      "  AMD_hype_next_month       0.679214   0.296296 0.043243  0.075472\n",
      " INTC_hype_next_month       0.836334   0.200000 0.010309  0.019608\n",
      " MSFT_hype_next_month       0.891980   0.000000 0.000000  0.000000\n",
      " TSLA_hype_next_month       0.644845   0.236842 0.171975  0.199262\n",
      " AAPL_hype_next_month       0.854337   0.333333 0.011364  0.021978\n",
      " AMZN_hype_next_month       0.823241   0.000000 0.000000  0.000000\n",
      " META_hype_next_month       0.731588   0.000000 0.000000  0.000000\n",
      "GOOGL_hype_next_month       0.869067   0.000000 0.000000  0.000000\n",
      " AVGO_hype_next_month       0.772504   0.000000 0.000000  0.000000\n"
     ]
    }
   ],
   "source": [
    "train_multioutput_xgboost(combined_train, combined_test, hype20_train, hype20_test)"
   ]
  },
  {
   "cell_type": "markdown",
   "metadata": {},
   "source": [
    "This model has an overall better test accuracy, but similar low precision and recall scores, still indicating that the accuracy is only due to the high imbalance. It seems to just happen to guess correct since most targets are non hypes."
   ]
  },
  {
   "cell_type": "markdown",
   "metadata": {},
   "source": [
    "__Balanced Random Forest__"
   ]
  },
  {
   "cell_type": "markdown",
   "metadata": {},
   "source": [
    "As a last try we go back to a random forest model, but this time we bootstrap each sample by undersampling the majority class. By doing this, we try to create a balanced dataset for each tree in the forest, hoping the imbalance is addressed effectively."
   ]
  },
  {
   "cell_type": "code",
   "execution_count": 62,
   "metadata": {},
   "outputs": [],
   "source": [
    "from sklearn.ensemble import RandomForestClassifier\n",
    "from sklearn.model_selection import GridSearchCV\n",
    "from sklearn.metrics import accuracy_score, precision_score, recall_score, f1_score\n",
    "from imblearn.under_sampling import RandomUnderSampler\n",
    "from imblearn.pipeline import Pipeline\n",
    "from sklearn.multioutput import MultiOutputClassifier"
   ]
  },
  {
   "cell_type": "code",
   "execution_count": 66,
   "metadata": {},
   "outputs": [],
   "source": [
    "# Define target columns for next month\n",
    "next_month_targets = [\n",
    "    'NVDA_hype_next_month',\n",
    "    'AMD_hype_next_month',\n",
    "    'INTC_hype_next_month',\n",
    "    'MSFT_hype_next_month',\n",
    "    'TSLA_hype_next_month',\n",
    "    'AAPL_hype_next_month',\n",
    "    'AMZN_hype_next_month',\n",
    "    'META_hype_next_month',\n",
    "    'GOOGL_hype_next_month',\n",
    "    'AVGO_hype_next_month'\n",
    "]\n",
    "\n",
    "def train_balanced_random_forest(X_train, y_train, X_test, y_test):\n",
    "    # Ensure input data is non-empty\n",
    "    if X_train is None or y_train is None or X_test is None or y_test is None:\n",
    "        print(\"One of the input datasets is None. Please check your data inputs.\")\n",
    "        return\n",
    "    \n",
    "    print(f\"X_train shape: {X_train.shape}\")\n",
    "    print(f\"y_train shape: {y_train.shape}\")\n",
    "    print(f\"X_test shape: {X_test.shape}\")\n",
    "    print(f\"y_test shape: {y_test.shape}\")\n",
    "\n",
    "    # Use next month targets directly\n",
    "    target_columns = next_month_targets\n",
    "\n",
    "    # Define Random Forest with balanced sampling using RandomUnderSampler\n",
    "    def create_balanced_rf_pipeline():\n",
    "        rus = RandomUnderSampler()  # Under-sample the majority class\n",
    "        rf = RandomForestClassifier(random_state=42)\n",
    "        return Pipeline([('undersample', rus), ('classifier', rf)])\n",
    "\n",
    "    # Create a MultiOutputClassifier with the balanced Random Forest pipeline\n",
    "    multi_target_rf = MultiOutputClassifier(create_balanced_rf_pipeline(), n_jobs=-1)\n",
    "\n",
    "    # Use GridSearchCV to find the best parameters\n",
    "    grid_search = GridSearchCV(\n",
    "        estimator=multi_target_rf,\n",
    "        param_grid=param_grid,\n",
    "        cv=2,\n",
    "        scoring='accuracy'\n",
    "    )\n",
    "    \n",
    "    print(\"Starting GridSearchCV fit...\")\n",
    "    grid_search.fit(X_train, y_train)  # Fit the GridSearchCV\n",
    "\n",
    "    best_rf = grid_search.best_estimator_  # Best Random Forest model\n",
    "    print(\"Best Random Forest model found.\")\n",
    "    \n",
    "    best_rf.fit(X_train, y_train)  # Fit the best Random Forest model\n",
    "    print(\"Model training complete.\")\n",
    "\n",
    "    # Calculate the training and test accuracy\n",
    "    train_predictions = best_rf.predict(X_train)\n",
    "    test_predictions = best_rf.predict(X_test)\n",
    "\n",
    "    train_accuracy = accuracy_score(y_train, train_predictions)  # Overall training accuracy\n",
    "    test_accuracy = accuracy_score(y_test, test_predictions)  # Overall test accuracy\n",
    "\n",
    "    print(f\"Best parameters found: {grid_search.best_params_}\")\n",
    "\n",
    "    # Calculate overall metrics\n",
    "    overall_precision_train = precision_score(y_train, train_predictions, average='macro', zero_division=0)\n",
    "    overall_recall_train = recall_score(y_train, train_predictions, average='macro', zero_division=0)\n",
    "    overall_f1_train = f1_score(y_train, train_predictions, average='macro', zero_division=0)\n",
    "\n",
    "    overall_precision_test = precision_score(y_test, test_predictions, average='macro', zero_division=0)\n",
    "    overall_recall_test = recall_score(y_test, test_predictions, average='macro', zero_division=0)\n",
    "    overall_f1_test = f1_score(y_test, test_predictions, average='macro', zero_division=0)\n",
    "\n",
    "    # Create DataFrame for overall metrics\n",
    "    overall_metrics = pd.DataFrame({\n",
    "        'Dataset': ['Training', 'Test'],\n",
    "        'Accuracy': [train_accuracy, test_accuracy],\n",
    "        'Precision': [overall_precision_train, overall_precision_test],\n",
    "        'Recall': [overall_recall_train, overall_recall_test],\n",
    "        'F1 Score': [overall_f1_train, overall_f1_test]\n",
    "    })\n",
    "\n",
    "    # Create DataFrame for per-stock metrics\n",
    "    stock_metrics = []\n",
    "    for i, column in enumerate(target_columns):\n",
    "        stock_train_accuracy = accuracy_score(y_train.iloc[:, i], train_predictions[:, i])\n",
    "        stock_test_accuracy = accuracy_score(y_test.iloc[:, i], test_predictions[:, i])\n",
    "        stock_precision = precision_score(y_test.iloc[:, i], test_predictions[:, i], zero_division=0)\n",
    "        stock_recall = recall_score(y_test.iloc[:, i], test_predictions[:, i], zero_division=0)\n",
    "        stock_f1 = f1_score(y_test.iloc[:, i], test_predictions[:, i], zero_division=0)\n",
    "\n",
    "        stock_metrics.append({\n",
    "            'Stock': column,\n",
    "            'Training Accuracy': stock_train_accuracy,\n",
    "            'Test Accuracy': stock_test_accuracy,\n",
    "            'Precision': stock_precision,\n",
    "            'Recall': stock_recall,\n",
    "            'F1 Score': stock_f1\n",
    "        })\n",
    "\n",
    "    stock_metrics_df = pd.DataFrame(stock_metrics)\n",
    "\n",
    "    # Display the overall metrics\n",
    "    print(\"\\nOverall Metrics:\")\n",
    "    print(overall_metrics.to_string(index=False))\n",
    "\n",
    "    # Display the per-stock metrics\n",
    "    print(\"\\nPer-Stock Metrics:\")\n",
    "    print(stock_metrics_df.to_string(index=False))\n",
    "\n",
    "param_grid = {\n",
    "    'estimator__classifier__n_estimators': [50, 100, 200, 500],  # Number of trees in the forest\n",
    "    'estimator__classifier__max_depth': [5, 10, 20, None]  # Maximum depth of the tree\n",
    "}"
   ]
  },
  {
   "cell_type": "code",
   "execution_count": 67,
   "metadata": {},
   "outputs": [
    {
     "name": "stdout",
     "output_type": "stream",
     "text": [
      "X_train shape: (2440, 126975)\n",
      "y_train shape: (2440, 10)\n",
      "X_test shape: (611, 126975)\n",
      "y_test shape: (611, 10)\n",
      "Starting GridSearchCV fit...\n",
      "Best Random Forest model found.\n",
      "Model training complete.\n",
      "Best parameters found: {'estimator__classifier__max_depth': 20, 'estimator__classifier__n_estimators': 100}\n",
      "\n",
      "Overall Metrics:\n",
      " Dataset  Accuracy  Precision   Recall  F1 Score\n",
      "Training  0.005328   0.277125 0.650829  0.343713\n",
      "    Test  0.000000   0.224638 0.650772  0.268434\n",
      "\n",
      "Per-Stock Metrics:\n",
      "                Stock  Training Accuracy  Test Accuracy  Precision   Recall  F1 Score\n",
      " NVDA_hype_next_month           0.725410       0.418985   0.399281 0.913580  0.555695\n",
      "  AMD_hype_next_month           0.468852       0.510638   0.284091 0.405405  0.334076\n",
      " INTC_hype_next_month           0.720082       0.173486   0.158863 0.979381  0.273381\n",
      " MSFT_hype_next_month           0.740984       0.134206   0.102916 0.909091  0.184900\n",
      " TSLA_hype_next_month           0.721311       0.296236   0.264249 0.974522  0.415761\n",
      " AAPL_hype_next_month           0.735246       0.155483   0.145695 1.000000  0.254335\n",
      " AMZN_hype_next_month           0.347951       0.711948   0.179245 0.175926  0.177570\n",
      " META_hype_next_month           0.382377       0.708674   0.347826 0.097561  0.152381\n",
      "GOOGL_hype_next_month           0.718443       0.158756   0.133446 0.987500  0.235119\n",
      " AVGO_hype_next_month           0.420492       0.738134   0.230769 0.064748  0.101124\n"
     ]
    }
   ],
   "source": [
    "train_balanced_random_forest(combined_train, hype20_train, combined_test, hype20_test)"
   ]
  },
  {
   "cell_type": "markdown",
   "metadata": {},
   "source": [
    "Using this model, the test accuracies are now quite lower overall while the precision and recall is much higher overall, indicating, that the model is overall more correct when identifying a hype and also does not miss that many hypes as the previous models. Bootstrapping the samples seems to have worked to better the problem of imbalance. But the F1 score is still quite low."
   ]
  },
  {
   "cell_type": "markdown",
   "metadata": {},
   "source": [
    "#### Conclusion"
   ]
  },
  {
   "cell_type": "markdown",
   "metadata": {},
   "source": [
    "In our analysis of multi-output classification models for predicting stock hype via sentiment analysis, we tested several approaches to tackle the challenges of class imbalance and noisy financial data. Our initial model, a random forest classifier, utilized ensemble averaging to manage noise. However, despite applying balanced class weights, the model struggled with class imbalance. While some stocks, like Google and Microsoft, showed high test accuracies, the precision was near zero, indicating that the model often predicted the dominant non-hype class without accurately identifying actual hype events.\n",
    "\n",
    "To address this, we implemented gradient boosting with XGBoost, leveraging weighted loss functions to counter imbalance. Although test accuracy improved, the precision and recall remained low, suggesting that the model still missed many true hype events.\n",
    "Our final approach was a balanced random forest, which undersampled the majority class to create a more balanced dataset. This improved precision and recall, indicating better hype detection. However, test accuracy decreased, and while F1 scores improved, further refinement is needed to balance precision and recall effectively.\n",
    "\n",
    "Therefore we conclude that, given our data and modelling, we were not able to predict hypes of stocks using sentiment analysis."
   ]
  }
 ],
 "metadata": {
  "kernelspec": {
   "display_name": "Python 3",
   "language": "python",
   "name": "python3"
  },
  "language_info": {
   "codemirror_mode": {
    "name": "ipython",
    "version": 3
   },
   "file_extension": ".py",
   "mimetype": "text/x-python",
   "name": "python",
   "nbconvert_exporter": "python",
   "pygments_lexer": "ipython3",
   "version": "3.9.6"
  }
 },
 "nbformat": 4,
 "nbformat_minor": 2
}
